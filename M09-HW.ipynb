{
 "cells": [
  {
   "cell_type": "markdown",
   "id": "bbea800c-241d-42b4-a744-ecaffe13959e",
   "metadata": {},
   "source": [
    "# Metadata\n",
    "\n",
    "```yaml\n",
    "Course:  DS 5100\n",
    "Module:  09 Python Packages\n",
    "Topic:   HW Package Booklover\n",
    "Author:  R.C. Alvarado (adapted)\n",
    "Date:    7 July 2023 (revised)\n",
    "```"
   ]
  },
  {
   "cell_type": "markdown",
   "id": "36f46fdd-2405-4dc8-9ea1-33f395e56cc0",
   "metadata": {},
   "source": [
    "# Student Info\n",
    "\n",
    "* Name: Jacob Kuchta\n",
    "* Net UD: mjk3ku\n",
    "* URL of this file in GitHub: https://github.com/jacobkuchta/DS5100-mjk3ku/blob/main/lessons/M09/M09-HW.ipynb"
   ]
  },
  {
   "cell_type": "markdown",
   "id": "375875a8-1503-46eb-8ea1-7e5bf39b5c41",
   "metadata": {},
   "source": [
    "# Instructions\n",
    "\n",
    "In your **private course repo on Rivanna**, use this Jupyter notebook and the data file described to write code that performs the tasks below. \n",
    "\n",
    "Save your notebook in the `M09` directory.\n",
    "\n",
    "Remember to add and commit these files to your repo. \n",
    "\n",
    "Then push your commits to your repo on GitHib.\n",
    "\n",
    "Be sure to fill out the **Student Info** block above.\n",
    "\n",
    "To submit your homework, save your results as a PDF and upload it to GradeScope. More information about how to create the PDF for this assignment are included at the end of this document.\n",
    "\n",
    "**TOTAL POINTS: 8**"
   ]
  },
  {
   "cell_type": "markdown",
   "id": "1baf08dc-35fe-44f1-bc26-7e1130ee993e",
   "metadata": {},
   "source": [
    "# Overview\n",
    "\n",
    "Follow the following recipe we used in class to package the code you wrote for `HW08` -- `booklover.py` and `booklover_test.py`.\n",
    "\n",
    "* Create a new git repo for your package.\n",
    "* Create and edit the required files and directories for your package and move the booklover modules there.\n",
    "* Stage, commit, and push all the files you've created.\n",
    "* Install your package with pip.\n",
    "* Outside of your package dir, write a script to test your method.\n",
    "\n",
    "Put this notebook in your repo. This will allow you to execute bash commands and capture the outpunt directly in the notebook.\n",
    "\n",
    "**TOTAL: 8 POINTS**"
   ]
  },
  {
   "cell_type": "markdown",
   "id": "6e39ba79-49ee-41e8-9e49-23d9d6bac2e0",
   "metadata": {
    "tags": []
   },
   "source": [
    "# Tasks"
   ]
  },
  {
   "cell_type": "markdown",
   "id": "fb11de14",
   "metadata": {},
   "source": [
    "## Task 1\n",
    "\n",
    "(5 points)\n",
    "\n",
    "Show the directory structure of your repo by running this command from the root of your repo:"
   ]
  },
  {
   "cell_type": "code",
   "execution_count": 4,
   "id": "7e6c6607",
   "metadata": {
    "tags": []
   },
   "outputs": [
    {
     "name": "stdout",
     "output_type": "stream",
     "text": [
      ".:\n",
      "total 10\n",
      "drwx--S--- 4 mjk3ku users 4096 Oct 29 20:13 m09-demo\n",
      "-rw------- 1 mjk3ku users  658 Oct 29 20:16 M09_Exercises.ipynb\n",
      "drwx--S--- 4 mjk3ku users 4096 Nov 12 13:47 m09-homework\n",
      "-rw------- 1 mjk3ku users 6525 Nov 12 13:44 M09-HW.ipynb\n",
      "-rw------- 1 mjk3ku users    0 Sep  1 10:36 readme.md\n",
      "\n",
      "./m09-demo:\n",
      "total 3\n",
      "drwx--S--- 2 mjk3ku users 4096 Oct 29 20:05 demo\n",
      "-rw------- 1 mjk3ku users   31 Oct 29 20:13 __init__.py\n",
      "-rw------- 1 mjk3ku users 1069 Oct 29 19:57 LICENSE\n",
      "-rw------- 1 mjk3ku users   33 Oct 29 19:57 README.md\n",
      "-rw------- 1 mjk3ku users  284 Oct 29 20:14 setup.py\n",
      "\n",
      "./m09-demo/demo:\n",
      "total 0\n",
      "-rw------- 1 mjk3ku users 0 Oct 29 20:01 __init__.py\n",
      "-rw------- 1 mjk3ku users 0 Oct 29 20:01 jabber.py\n",
      "\n",
      "./m09-homework:\n",
      "total 2\n",
      "drwx--S--- 2 mjk3ku users 4096 Nov 12 13:53 homework\n",
      "-rw------- 1 mjk3ku users 1069 Nov 12 13:38 LICENSE\n",
      "-rw------- 1 mjk3ku users   35 Nov 12 13:38 README.md\n",
      "-rw------- 1 mjk3ku users    0 Nov 12 13:47 setup.py\n",
      "\n",
      "./m09-homework/homework:\n",
      "total 1\n",
      "-rw------- 1 mjk3ku users 1270 Nov 12 13:53 booklover.py\n",
      "-rw------- 1 mjk3ku users 1730 Nov 12 13:53 booklover_test.py\n",
      "-rw------- 1 mjk3ku users    0 Nov 12 13:47 __init__.py\n"
     ]
    }
   ],
   "source": [
    "# My Module 9 Homework Package is \"m09-homework\"\n",
    "\n",
    "!ls -lR"
   ]
  },
  {
   "cell_type": "markdown",
   "id": "6b6f288b-05aa-441b-8c73-84b50b3b6844",
   "metadata": {},
   "source": [
    "## Task 2\n",
    "\n",
    "(1 point)\n",
    "\n",
    "Put the URL of your GitHub repo here. Just paste it into a Markdown cell."
   ]
  },
  {
   "cell_type": "markdown",
   "id": "4d09d889-6104-4f20-b31c-2d8a72b17693",
   "metadata": {},
   "source": [
    "URL: https://github.com/jacobkuchta/m09-homework"
   ]
  },
  {
   "cell_type": "markdown",
   "id": "f989dcd1-b1d2-4eb9-8ef6-8ca2d8495260",
   "metadata": {
    "lines_to_next_cell": 0
   },
   "source": [
    "## Task 3\n",
    "\n",
    "(1 point)\n",
    "\n",
    "Show the results of installing your package.\n",
    "\n",
    "```bash\n",
    "!pip install -e .\n",
    "```"
   ]
  },
  {
   "cell_type": "markdown",
   "id": "06b70c25-6103-4740-ab2e-e4fd68e12580",
   "metadata": {
    "lines_to_next_cell": 0
   },
   "source": [
    "```bash\n",
    "Defaulting to user installation because normal site-packages is not writeable\n",
    "Processing /sfs/gpfs/tardis/home/mjk3ku/Documents/MSDS/DS5100/DS5100-mjk3ku/lessons/M09/m09-homework\n",
    "  Preparing metadata (setup.py) ... done\n",
    "Building wheels for collected packages: homework\n",
    "  Building wheel for homework (setup.py) ... done\n",
    "  Created wheel for homework: filename=homework-0.1-py3-none-any.whl size=3258 sha256=819a349d811f4b2462db38b0214b2d7079cd3a0bd57a99aeaf6de8af53ca99c7\n",
    "  Stored in directory: /sfs/gpfs/tardis/home/mjk3ku/.cache/pip/wheels/75/43/9d/c65adf1427c949f555562106c253bfbb7a53848d9fc805675b\n",
    "Successfully built homework\n",
    "Installing collected packages: homework\n",
    "Successfully installed homework-0.1\n",
    "```"
   ]
  },
  {
   "cell_type": "markdown",
   "id": "5b1a642e-74f0-43ff-97a3-9ddc7553978e",
   "metadata": {},
   "source": [
    "## Task 4\n",
    "\n",
    "(1 point)\n",
    "\n",
    "Create a file outside your repo to test your package by running it.\n",
    "\n",
    "To do this, import the package into your file and create a BookLover object.\n",
    "\n",
    "Then add a book and then print number books read.\n",
    "\n",
    "Then run the file. \n",
    "\n",
    "Show the output of running the file below, using a command like the following:\n",
    "\n",
    "```bash\n",
    "!python ../book_lover_demo.py\n",
    "```"
   ]
  },
  {
   "cell_type": "markdown",
   "id": "15c4f5bd-50e2-4b86-af06-ef67a97ef808",
   "metadata": {},
   "source": [
    "```bash\n",
    "Welcome to my package!\n",
    "/home/mjk3ku/.local/lib/python3.11/site-packages/homework/booklover.py:15: FutureWarning: elementwise comparison failed; returning scalar instead, but in the future will perform elementwise comparison\n",
    "  if book_name in self.book_list['book_name'].values:\n",
    "Number of books read: 1\n",
    "```"
   ]
  }
 ],
 "metadata": {
  "jupytext": {
   "cell_metadata_filter": "-all",
   "main_language": "bash",
   "notebook_metadata_filter": "-all"
  },
  "kernelspec": {
   "display_name": "Python 3 (ipykernel)",
   "language": "python",
   "name": "python3"
  },
  "language_info": {
   "codemirror_mode": {
    "name": "ipython",
    "version": 3
   },
   "file_extension": ".py",
   "mimetype": "text/x-python",
   "name": "python",
   "nbconvert_exporter": "python",
   "pygments_lexer": "ipython3",
   "version": "3.11.4"
  },
  "vscode": {
   "interpreter": {
    "hash": "c3b963de08c47c3b6758389c5e0978ad73698a111eb508d4e16b558edb8f4cbf"
   }
  },
  "widgets": {
   "application/vnd.jupyter.widget-state+json": {
    "state": {},
    "version_major": 2,
    "version_minor": 0
   }
  }
 },
 "nbformat": 4,
 "nbformat_minor": 5
}
